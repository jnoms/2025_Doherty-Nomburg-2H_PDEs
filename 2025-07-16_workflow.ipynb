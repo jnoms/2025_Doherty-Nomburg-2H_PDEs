{
 "cells": [
  {
   "cell_type": "markdown",
   "id": "2e6ba26f",
   "metadata": {},
   "source": [
    "# Protein folding \n",
    "vpSAT can be found here: https://github.com/jnoms/vpSAT"
   ]
  },
  {
   "cell_type": "code",
   "execution_count": null,
   "id": "d19b4604",
   "metadata": {
    "vscode": {
     "languageId": "shellscript"
    }
   },
   "outputs": [],
   "source": [
    "# Make MSAs for colabfold\n",
    "SEARCH=colabfold_search\n",
    "REF_DB=path/to/colabfold\n",
    "$SEARCH infrared_megaphages_clust_rep_seq.fasta $REF_DB msas\n",
    "\n",
    "# Fold\n",
    "nextflow run $CODE/vpSAT/main.nf \\\n",
    "    -profile lw \\\n",
    "    --entry_point \"colabfold\" \\\n",
    "    --in_files \"msas/*a3m\" \\\n",
    "    -resume \\\n",
    "    --COLABFOLD_num_recycles 3 \\\n",
    "    --COLABFOLD_num_models 3 \\\n",
    "    --COLABFOLD_stop_at_score 80 \\\n",
    "    --COLABFOLD_stop_at_score_below 40"
   ]
  },
  {
   "cell_type": "markdown",
   "id": "9b67bd81",
   "metadata": {},
   "source": [
    "# DALI searches"
   ]
  },
  {
   "cell_type": "code",
   "execution_count": null,
   "id": "624fcbb9",
   "metadata": {
    "vscode": {
     "languageId": "shellscript"
    }
   },
   "outputs": [],
   "source": [
    "# Import the viral 2Hs into DALI database format\n",
    "mkdir -p query_db\n",
    "\n",
    "for FILE in query_structures/*pdb ; do\n",
    "\n",
    "ABREV=$(basename ${FILE%.pdb})\n",
    "\n",
    "import.pl \\\n",
    "--pdbfile $FILE \\\n",
    "--pdbid $ABREV \\\n",
    "--dat query_db \\\n",
    "--clean\n",
    "\n",
    "done\n",
    "\n",
    "# Running the DALI searches.\n",
    "# The phage databases are split into 3 folders, and we use an SGE array to run three searches. \n",
    "QUERY_DB=query_db\n",
    "TARGET_DB=path/to/dali_db/batch${SLURM_ARRAY_TASK_ID}\n",
    "\n",
    "$CODE/vpSAT/bin/dali.sh \\\n",
    "-q $QUERY_DB \\\n",
    "-t $TARGET_DB \\\n",
    "-o result/res_${SLURM_ARRAY_TASK_ID} \\\n",
    "-n 28\n",
    "\n",
    "# Parse the DALI results\n",
    "KEY=path/to/dali_db_key.txt\n",
    "\n",
    "for FILE in result/*/*txt ; do\n",
    "\n",
    "BASE=${FILE%.txt}\n",
    "\n",
    "sat.py aln_parse_dali \\\n",
    "-a $FILE \\\n",
    "-s $KEY \\\n",
    "-o ${BASE}.m8\n",
    "\n",
    "done"
   ]
  },
  {
   "cell_type": "code",
   "execution_count": null,
   "id": "aeec57ba",
   "metadata": {
    "vscode": {
     "languageId": "shellscript"
    }
   },
   "outputs": [],
   "source": [
    "# Sequence searches (jackhmmer, mmseqs2)"
   ]
  },
  {
   "cell_type": "code",
   "execution_count": null,
   "id": "bc4041b6",
   "metadata": {
    "vscode": {
     "languageId": "shellscript"
    }
   },
   "outputs": [],
   "source": [
    "# First, convert the phage 2H structure files into fasta files\n",
    "STRUCS=path/to/query_structures\n",
    "\n",
    "mkdir -p query_fastas\n",
    "\n",
    "for STRUC in $STRUCS/*pdb ; do\n",
    "\n",
    "BASE=$(basename ${STRUC%.pdb})\n",
    "\n",
    "sat.py struc_to_seq \\\n",
    "-s $STRUC \\\n",
    "-H $BASE \\\n",
    "-o query_fastas/${BASE}.fasta\n",
    "\n",
    "done\n",
    "\n",
    "cat query_fastas/*fasta > query.fasta\n",
    "\n",
    "# Now, run jackhmmer\n",
    "conda activate hmmer\n",
    "\n",
    "jackhmmer \\\n",
    "--tblout ligT_search.hmmer.m8.tmp \\\n",
    "--cpu 5 \\\n",
    "-N 3 \\\n",
    "query.fasta \\\n",
    "path/to/all_phage_seqs.fasta\n",
    "\n",
    "\n",
    "# Parse the jackhmmer output into a better file...\n",
    "# colnames are target,query,evalue,bits\n",
    "awk 'NR > 3 {print $1, $3, $5, $6}' FS=\" \" OFS=\"\\t\" ligT_search.hmmer.m8.tmp > ligT_search.hmmer.m8.tmp2\n",
    "\n",
    "# There are a few lines starting with #, need to remove them\n",
    "grep -v \"^#\" ligT_search.hmmer.m8.tmp2 > ligT_search.hmmer.m8\n",
    "\n",
    "\n",
    "# Filter on evalue <= 0.001\n",
    "sat.py aln_filter \\\n",
    "-a ligT_search.hmmer.m8 \\\n",
    "-o ligT_search.hmmer.eval0.001.m8 \\\n",
    "-f \"target,query,evalue,bits\" \\\n",
    "-x evalue \\\n",
    "-m 0 \\\n",
    "-M 0.001 \n",
    "\n",
    "# MMseqs2 as a comparitor \n",
    "#-----------------#\n",
    "# conda activate vpSAT\n",
    "TARGET=path/to/all_phage_seqs.fasta\n",
    "\n",
    "\n",
    "mkdir -p tmp\n",
    "\n",
    "mmseqs easy-search \\\n",
    "query.fasta \\\n",
    "$TARGET \\\n",
    "ligT_search.mmseqs.m8 \\\n",
    "tmp \\\n",
    "--threads 5 \\\n",
    " --format-mode 4"
   ]
  },
  {
   "cell_type": "markdown",
   "id": "5d0892e4",
   "metadata": {},
   "source": [
    "# Phylogenetics"
   ]
  },
  {
   "cell_type": "code",
   "execution_count": null,
   "id": "5275db1e",
   "metadata": {
    "vscode": {
     "languageId": "shellscript"
    }
   },
   "outputs": [],
   "source": [
    "# Run foldmason. \n",
    "# structures contains the 2H structures from phage and eukaryotic viruses\n",
    "mkdir -p tmp\n",
    "foldmason easy-msa \\\n",
    "structures \\\n",
    "ligt_virus_only_foldmason.fasta \\\n",
    "tmp \\\n",
    "--report-mode 1\n",
    "\n",
    "# Run iqtree\n",
    "iqtree \\\n",
    "-s ../foldmason/ligt_virus_only_foldmason.fasta_aa.fa \\\n",
    "-m TEST \\\n",
    "-B 1000 \\\n",
    "--prefix ligt_virus_only_foldmason \\\n",
    "--seqtype AA \\\n",
    "-T AUTO \\\n",
    "--threads-max 10 \\\n",
    "--redo \\\n",
    "-v"
   ]
  },
  {
   "cell_type": "markdown",
   "id": "eb3468a5",
   "metadata": {},
   "source": [
    "# Finding co-associated domains"
   ]
  },
  {
   "cell_type": "code",
   "execution_count": null,
   "id": "86474ab3",
   "metadata": {
    "vscode": {
     "languageId": "shellscript"
    }
   },
   "outputs": [],
   "source": [
    "# Running Chainsaw to split domains\n",
    "#--------------------------------#\n",
    "STRUCTURE_DIR=/path/to/2H/structures\n",
    "OUTPUT_DIR=result\n",
    "\n",
    "for FILE in \"$STRUCTURE_DIR\"/*.pdb; do\n",
    "    BASENAME=$(basename \"$FILE\" .pdb)\n",
    "    OUTFILE=\"${OUTPUT_DIR}/${BASENAME}.txt\"\n",
    "\n",
    "    echo \"Processing $BASENAME at $(date)\"\n",
    "\n",
    "    if [[ ! -f \"$FILE\" ]]; then\n",
    "        echo \"  [ERROR] File not found: $FILE\"\n",
    "        continue\n",
    "    fi\n",
    "\n",
    "    python path/to/chainsaw/get_predictions.py \\\n",
    "        --structure_file \"$FILE\" \\\n",
    "        --output \"$OUTFILE\"\n",
    "\n",
    "    STATUS=$?\n",
    "    if [[ $STATUS -ne 0 ]]; then\n",
    "        echo \"  [ERROR] Python script failed for $FILE with exit code $STATUS\"\n",
    "    else\n",
    "        echo \"  [OK] Finished $BASENAME\"\n",
    "    fi\n",
    "done\n",
    "\n",
    "\n",
    "# Concatenate the chainsaw output\n",
    "#--------------------------------#\n",
    "dir=$OUTPUT_DIR\n",
    "first=1\n",
    "for f in \"$dir\"/*.txt; do\n",
    "    if [ $first -eq 1 ]; then\n",
    "        cat \"$f\"\n",
    "        first=0\n",
    "    else\n",
    "        tail -n +2 \"$f\"\n",
    "    fi\n",
    "done > combined_chainsaw_file.txt\n",
    "\n",
    "# Extract the domains\n",
    "#--------------------------------#\n",
    "CHAINSAW_FILE_PATH=/path/to/combined_chainsaw_file.txt\n",
    "PDB_PATH=path/to/structures\n",
    "OUTPUT=extracted_domains\n",
    "for PDB_FILE in $PDB_PATH/*.pdb; do\n",
    "    sat.py struc_get_domains -s $PDB_FILE -c $CHAINSAW_FILE_PATH -m 80 -o $OUTPUT\n",
    "done\n",
    "\n",
    "# Run DALI to identify which domains are the 2H domains\n",
    "#--------------------------------#\n",
    "dali_format_inputs.sh \\\n",
    "-d extracted_domains \\\n",
    "-o databases/domain_2H_db \\\n",
    "-s DALI_search/struc_2H_key.txt\n",
    "\n",
    "QUERY_DB=/path/to/acb1/\n",
    "TARGET_DB=databases/domain_2H_db\n",
    "KEY=DALI_search/struc_2H_key.txt\n",
    "\n",
    "/wynton/home/doudna/nprice/vpSAT/bin/dali.sh \\\n",
    "-q $QUERY_DB \\\n",
    "-t $TARGET_DB \\\n",
    "-o 2H_domain_dali_result/unparsed \\\n",
    "-n 20\n",
    "\n",
    "conda activate SAT\n",
    "\n",
    "for FILE in 2H_domain_dali_result/unparsed/*txt ; do\n",
    "\n",
    "BASE=$(basename ${FILE%.txt})\n",
    "\n",
    "sat.py aln_parse_dali \\\n",
    "-a $FILE \\\n",
    "-s $KEY \\\n",
    "-o 2H_domain_dali_result/${BASE}.m8\n",
    "\n",
    "done\n",
    "\n",
    "cat 2H_domain_dali_result/*m8 > 2H_domain_dali_result/all_2H_domains.m8\n",
    "\n",
    "# Pull out domains that didn't align to the 2H domains\n",
    "#--------------------------------#\n",
    "DOMAIN_PDBS=path/to/extracted_domains\n",
    "\n",
    "ALN=2H_domain_dali_result/all_2H_domains.m8\n",
    "\n",
    "mkdir -p non2H_domains\n",
    "\n",
    "for FILE in \"${DOMAIN_PDBS}\"/*.pdb; do\n",
    "  BASE=$(basename \"${FILE%.pdb}\")\n",
    "\n",
    "  if ! grep -q \"$BASE\" \"$ALN\"; then\n",
    "    cp $FILE non2H_domains\n",
    "  fi\n",
    "done\n",
    "\n",
    "# Run Foldseek against the CATH structures\n",
    "#--------------------------------#\n",
    "foldseek easy-search \\\n",
    "non2H_domains \\\n",
    "cath_foldseek_db/cath \\\n",
    "foldseek_non2H_vs_cath/aln.m8 \\\n",
    "tmp \\\n",
    " --format-mode 4 \\\n",
    "--tmscore-threshold 0.5 \\\n",
    "--format-output \"query,target,fident,alnlen,mismatch,gapopen,qstart,qend,tstart,tend,qcov,tcov,evalue,bits,theader,alntmscore\"\n",
    "\n",
    "# Filter for alignments > 60 reisudes\n",
    "sat.py aln_filter \\\n",
    "-a foldseek_non2H_vs_cath/aln.m8 \\\n",
    "-o foldseek_non2H_vs_cath/aln.lenFilt.m8 \\\n",
    "-x alnlen \\\n",
    "-m 60 \\\n",
    "-M 100000\n"
   ]
  },
  {
   "cell_type": "code",
   "execution_count": null,
   "id": "e1490655",
   "metadata": {
    "vscode": {
     "languageId": "shellscript"
    }
   },
   "outputs": [],
   "source": []
  }
 ],
 "metadata": {
  "kernelspec": {
   "display_name": "vpSAT",
   "language": "python",
   "name": "python3"
  },
  "language_info": {
   "codemirror_mode": {
    "name": "ipython",
    "version": 3
   },
   "file_extension": ".py",
   "mimetype": "text/x-python",
   "name": "python",
   "nbconvert_exporter": "python",
   "pygments_lexer": "ipython3",
   "version": "3.10.5"
  }
 },
 "nbformat": 4,
 "nbformat_minor": 5
}
